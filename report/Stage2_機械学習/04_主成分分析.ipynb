{
 "cells": [
  {
   "cell_type": "code",
   "execution_count": 4,
   "id": "younger-maximum",
   "metadata": {},
   "outputs": [],
   "source": [
    "import pandas as pd\n",
    "from sklearn.linear_model import LogisticRegression\n",
    "from sklearn.model_selection import train_test_split\n",
    "from sklearn.decomposition import PCA"
   ]
  },
  {
   "cell_type": "code",
   "execution_count": 2,
   "id": "western-moral",
   "metadata": {},
   "outputs": [],
   "source": [
    "data = pd.read_csv('./data/cancer.csv')"
   ]
  },
  {
   "cell_type": "code",
   "execution_count": 5,
   "id": "entertaining-voluntary",
   "metadata": {},
   "outputs": [],
   "source": [
    "# radius_meanからnoname手前のfractal_dimension_worstまで３０次元を使用する\n",
    "X = data.loc[:, \"radius_mean\":\"fractal_dimension_worst\"]\n",
    "y = data['diagnosis'] = data['diagnosis'].map({'B' : 0, 'M' : 1}).astype(int)"
   ]
  },
  {
   "cell_type": "code",
   "execution_count": 9,
   "id": "mounted-little",
   "metadata": {},
   "outputs": [],
   "source": [
    "# テストデータと訓練データに分割\n",
    "X_train, X_test, y_train, y_test = train_test_split(X, y, random_state = 5)"
   ]
  },
  {
   "cell_type": "code",
   "execution_count": 16,
   "id": "promotional-fifth",
   "metadata": {},
   "outputs": [
    {
     "data": {
      "text/plain": [
       "LogisticRegression(max_iter=2000)"
      ]
     },
     "execution_count": 16,
     "metadata": {},
     "output_type": "execute_result"
    }
   ],
   "source": [
    "# 学習\n",
    "model = LogisticRegression(max_iter=2000)\n",
    "model.fit(X_train, y_train)"
   ]
  },
  {
   "cell_type": "code",
   "execution_count": 17,
   "id": "surface-jewel",
   "metadata": {},
   "outputs": [],
   "source": [
    "# 30次元でのスコアを算出\n",
    "dimention_30 = model.score(X_test, y_test)"
   ]
  },
  {
   "cell_type": "code",
   "execution_count": 21,
   "id": "civil-video",
   "metadata": {},
   "outputs": [],
   "source": [
    "# 次元数を2まで削減してみる\n",
    "pca = PCA(n_components=2)\n",
    "X_train2 = pca.fit_transform(X_train)\n",
    "X_test2 = pca.fit_transform(X_test)"
   ]
  },
  {
   "cell_type": "code",
   "execution_count": 22,
   "id": "physical-pioneer",
   "metadata": {},
   "outputs": [
    {
     "data": {
      "text/plain": [
       "LogisticRegression(max_iter=2000)"
      ]
     },
     "execution_count": 22,
     "metadata": {},
     "output_type": "execute_result"
    }
   ],
   "source": [
    "# 学習\n",
    "model.fit(X_train2, y_train)"
   ]
  },
  {
   "cell_type": "code",
   "execution_count": 23,
   "id": "disturbed-missouri",
   "metadata": {},
   "outputs": [],
   "source": [
    "# 2次元でのスコアを算出\n",
    "dimention_2 = model.score(X_test2, y_test)"
   ]
  },
  {
   "cell_type": "code",
   "execution_count": 24,
   "id": "legitimate-cassette",
   "metadata": {},
   "outputs": [
    {
     "data": {
      "text/plain": [
       "0.9790209790209791"
      ]
     },
     "execution_count": 24,
     "metadata": {},
     "output_type": "execute_result"
    }
   ],
   "source": [
    "dimention_30"
   ]
  },
  {
   "cell_type": "code",
   "execution_count": 25,
   "id": "valuable-wisdom",
   "metadata": {},
   "outputs": [
    {
     "data": {
      "text/plain": [
       "0.8811188811188811"
      ]
     },
     "execution_count": 25,
     "metadata": {},
     "output_type": "execute_result"
    }
   ],
   "source": [
    "dimention_2"
   ]
  },
  {
   "cell_type": "markdown",
   "id": "durable-steps",
   "metadata": {},
   "source": [
    "【考察】\n",
    "30次元では97%のスコア、2次元まで削減すると88%のスコアとなった。\n",
    "9%の違いが大きく響くかは要件次第かもしれないが、大幅に次元を削減しても問題ないケースがあることがわかった。"
   ]
  }
 ],
 "metadata": {
  "kernelspec": {
   "display_name": "Python 3",
   "language": "python",
   "name": "python3"
  },
  "language_info": {
   "codemirror_mode": {
    "name": "ipython",
    "version": 3
   },
   "file_extension": ".py",
   "mimetype": "text/x-python",
   "name": "python",
   "nbconvert_exporter": "python",
   "pygments_lexer": "ipython3",
   "version": "3.8.5"
  }
 },
 "nbformat": 4,
 "nbformat_minor": 5
}
