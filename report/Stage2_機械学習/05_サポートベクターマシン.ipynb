{
 "cells": [
  {
   "cell_type": "code",
   "execution_count": 1,
   "id": "ceramic-parade",
   "metadata": {},
   "outputs": [],
   "source": [
    "import pandas as pd\n",
    "from sklearn.linear_model import LogisticRegression\n",
    "from sklearn.model_selection import train_test_split\n",
    "from sklearn.svm import SVC\n",
    "\n",
    "data = pd.read_csv('./data/cancer.csv')"
   ]
  },
  {
   "cell_type": "code",
   "execution_count": 2,
   "id": "democratic-november",
   "metadata": {},
   "outputs": [],
   "source": [
    "# radius_meanからnoname手前のfractal_dimension_worstまで３０次元を使用する\n",
    "X = data.loc[:, \"radius_mean\":\"fractal_dimension_worst\"]\n",
    "y = data['diagnosis'] = data['diagnosis'].map({'B' : 0, 'M' : 1}).astype(int)"
   ]
  },
  {
   "cell_type": "code",
   "execution_count": 3,
   "id": "suitable-given",
   "metadata": {},
   "outputs": [],
   "source": [
    "# テストデータと訓練データに分割\n",
    "X_train, X_test, y_train, y_test = train_test_split(X, y, random_state = 5)"
   ]
  },
  {
   "cell_type": "code",
   "execution_count": 4,
   "id": "quiet-adjustment",
   "metadata": {},
   "outputs": [
    {
     "data": {
      "text/plain": [
       "LogisticRegression(max_iter=2000)"
      ]
     },
     "execution_count": 4,
     "metadata": {},
     "output_type": "execute_result"
    }
   ],
   "source": [
    "# ロジスティック回帰で学習\n",
    "model = LogisticRegression(max_iter=2000)\n",
    "model.fit(X_train, y_train)"
   ]
  },
  {
   "cell_type": "code",
   "execution_count": 6,
   "id": "viral-ordinance",
   "metadata": {},
   "outputs": [],
   "source": [
    "# スコアを算出\n",
    "logistic_score = model.score(X_test, y_test)"
   ]
  },
  {
   "cell_type": "code",
   "execution_count": 7,
   "id": "executed-notion",
   "metadata": {},
   "outputs": [
    {
     "data": {
      "text/plain": [
       "SVC()"
      ]
     },
     "execution_count": 7,
     "metadata": {},
     "output_type": "execute_result"
    }
   ],
   "source": [
    "# サポートベクターマシンで学習\n",
    "model2 = SVC()\n",
    "model2.fit(X_train, y_train)"
   ]
  },
  {
   "cell_type": "code",
   "execution_count": 8,
   "id": "taken-september",
   "metadata": {},
   "outputs": [],
   "source": [
    "# スコアを算出\n",
    "svc_score = model2.score(X_test, y_test)"
   ]
  },
  {
   "cell_type": "code",
   "execution_count": 9,
   "id": "abroad-sally",
   "metadata": {},
   "outputs": [
    {
     "data": {
      "text/plain": [
       "0.9790209790209791"
      ]
     },
     "execution_count": 9,
     "metadata": {},
     "output_type": "execute_result"
    }
   ],
   "source": [
    "logistic_score"
   ]
  },
  {
   "cell_type": "code",
   "execution_count": 10,
   "id": "sealed-samba",
   "metadata": {},
   "outputs": [
    {
     "data": {
      "text/plain": [
       "0.951048951048951"
      ]
     },
     "execution_count": 10,
     "metadata": {},
     "output_type": "execute_result"
    }
   ],
   "source": [
    "svc_score"
   ]
  },
  {
   "cell_type": "markdown",
   "id": "understanding-mouth",
   "metadata": {},
   "source": [
    "【考察】\n",
    "次元数は30と多いが、サポートベクターマシンでもロジスティック回帰と大きく違わない（2%）結果となった。\n",
    "よりハードマージンに近づけた際に更に改善できるのかは検証していきたい。"
   ]
  }
 ],
 "metadata": {
  "kernelspec": {
   "display_name": "Python 3",
   "language": "python",
   "name": "python3"
  },
  "language_info": {
   "codemirror_mode": {
    "name": "ipython",
    "version": 3
   },
   "file_extension": ".py",
   "mimetype": "text/x-python",
   "name": "python",
   "nbconvert_exporter": "python",
   "pygments_lexer": "ipython3",
   "version": "3.8.5"
  }
 },
 "nbformat": 4,
 "nbformat_minor": 5
}
